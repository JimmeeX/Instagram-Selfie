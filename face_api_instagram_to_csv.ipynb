{
 "cells": [
  {
   "cell_type": "code",
   "execution_count": 1,
   "metadata": {},
   "outputs": [],
   "source": [
    "import pandas as pd\n",
    "import json\n",
    "import pickle\n",
    "import os"
   ]
  },
  {
   "cell_type": "code",
   "execution_count": 2,
   "metadata": {},
   "outputs": [],
   "source": [
    "in_path = \"/mnt/e/Data/selfies/face_api_json\"\n",
    "\n",
    "shortcodes_analysed_json = os.listdir(in_path)\n",
    "shortcodes_analysed = list(map(lambda x: x[:-5], shortcodes_analysed_json))\n",
    "data_list = []\n",
    "for shortcode in shortcodes_analysed:\n",
    "    with open(os.path.join(in_path, shortcode + \".json\"), \"r\") as fin:\n",
    "        data = json.load(fin)\n",
    "        if len(data) > 0:\n",
    "            # Selfie: Use the biggest rectangle as main data\n",
    "            data[0][\"shortcode\"] = shortcode\n",
    "            data[0][\"num_faces\"] = len(data)\n",
    "            \n",
    "            accessories = {\n",
    "                \"glasses\": 0.0,\n",
    "                \"headwear\": 0.0,\n",
    "                \"mask\": 0.0\n",
    "            }\n",
    "\n",
    "            for item in data[0][\"faceAttributes\"][\"accessories\"]:\n",
    "                accessories[item[\"type\"]] = item[\"confidence\"]\n",
    "            \n",
    "            data[0][\"faceAttributes\"][\"accessories\"] = accessories\n",
    "            \n",
    "            hair_colors = {}\n",
    "            \n",
    "            for item in data[0][\"faceAttributes\"][\"hair\"][\"hairColor\"]:\n",
    "                hair_colors[item[\"color\"]] = item[\"confidence\"]\n",
    "                \n",
    "            data[0][\"faceAttributes\"][\"hair\"][\"hairColor\"] = hair_colors\n",
    "            \n",
    "            data_list.append(data[0])\n",
    "            \n",
    "df_face = pd.io.json.json_normalize(data_list, sep=\"_\")\n",
    "\n",
    "df_face = df_face.drop(columns=\"faceId\")"
   ]
  },
  {
   "cell_type": "code",
   "execution_count": 3,
   "metadata": {},
   "outputs": [],
   "source": [
    "df_face.to_csv(os.path.join(\"data\", \"face_api.csv\"), index=False)"
   ]
  },
  {
   "cell_type": "code",
   "execution_count": 4,
   "metadata": {},
   "outputs": [],
   "source": [
    "in_path = \"/mnt/e/Data/selfies/instagram_json\"\n",
    "\n",
    "shortcodes_analysed_json = os.listdir(in_path)\n",
    "shortcodes_analysed = list(map(lambda x: x[:-5], shortcodes_analysed_json))\n",
    "\n",
    "data_list = []\n",
    "for shortcode in shortcodes_analysed:\n",
    "    with open(os.path.join(in_path, shortcode + \".json\"), \"r\") as fin:\n",
    "        data = json.load(fin)\n",
    "            \n",
    "        data_list.append(data[\"graphql\"][\"shortcode_media\"])\n",
    "            \n",
    "df_instagram = pd.io.json.json_normalize(data_list, sep=\"_\")"
   ]
  },
  {
   "cell_type": "code",
   "execution_count": 5,
   "metadata": {},
   "outputs": [],
   "source": [
    "remove_cols = [\n",
    "    \"dash_info_is_dash_eligible\",                    # Too little data\n",
    "    \"dash_info_number_of_qualities\",                 # Too little data\n",
    "    \"dash_info_video_dash_manifest\",                 # Too little data\n",
    "    \"display_resources\",                             # display_url is enough\n",
    "    \"edge_media_preview_like_edges\",                 # Same across whole column\n",
    "    \"edge_media_to_caption_edges\",                   # Remove for simplicity\n",
    "    \"edge_media_to_comment_edges\",                   # Remove for simplicity\n",
    "    \"edge_media_to_comment_page_info_end_cursor\",    # Too litle data\n",
    "    \"edge_media_to_comment_page_info_has_next_page\", # Remove for simplicity\n",
    "    \"edge_media_to_sponsor_user_edges\",              # Same across whole column\n",
    "    \"edge_media_to_tagged_user_edges\",               # Remove for simplicity\n",
    "    \"edge_sidecar_to_children_edges\",                # We are only dealing with single images\n",
    "    \"edge_web_media_to_related_media_edges\",         # Same across whole column\n",
    "    \"encoding_status\",                               # Too little data\n",
    "    \"gating_info\",                                   # Too little data\n",
    "    \"has_ranked_comments\",                           # Same across whole column\n",
    "    \"id\",                                            # Not needed\n",
    "    \"is_ad\",                                         # Same across whole column\n",
    "    \"is_published\",                                  # is_published == is_video??\n",
    "    \"is_video\",                                      # We are only dealing with images\n",
    "    \"location\",                                      # Too little data\n",
    "    \"location_address_json\",                         # Negligible | Low data\n",
    "    \"location_has_public_page\",\n",
    "    \"location_id\",\n",
    "    \"location_name\",\n",
    "    \"location_slug\",\n",
    "    \"media_preview\",                                 # Irrelevant\n",
    "    \"owner_blocked_by_viewer\",                       # Same across whole column\n",
    "    \"owner_followed_by_viewer\",                      # Same across whole column\n",
    "    \"owner_full_name\",                               # We will user owner_usename\n",
    "    \"owner_has_blocked_viewer\",                      # Sane acriss whole column\n",
    "    \"owner_is_private\",                              # Same across whole column\n",
    "    \"owner_is_unpublished\",                          # Same across whole column\n",
    "    \"owner_profile_pic_url\",                         # Remove for simplicity\n",
    "    \"owner_requested_by_viewer\",                     # Same across whole column\n",
    "    \"product_type\",                                  # May be for videos only?\n",
    "    \"should_log_client_event\",                       # Sane across whole column\n",
    "    \"thumbnail_src\",                                 # Videos only\n",
    "    \"title\",                                         # Too little data\n",
    "    \"tracking_token\",                                # Not needed\n",
    "    \"video_duration\",                                # Videos only\n",
    "    \"video_url\",                                     # Videos only\n",
    "    \"video_view_count\",\n",
    "    \"viewer_can_reshare\",                            # Same across whole column\n",
    "    \"viewer_has_liked\",\n",
    "    \"viewer_has_saved\",\n",
    "    \"viewer_has_saved_to_collection\",\n",
    "    \"viewer_in_photo_of_you\"\n",
    "]\n",
    "\n",
    "df_instagram = df_instagram.drop(columns=remove_cols)\n",
    "\n",
    "df_instagram = df_instagram[(df_instagram[\"__typename\"] == \"GraphImage\") & (df_instagram[\"comments_disabled\"] == False)].drop(columns=[\"__typename\", \"comments_disabled\"])"
   ]
  },
  {
   "cell_type": "code",
   "execution_count": 6,
   "metadata": {},
   "outputs": [],
   "source": [
    "df_instagram.to_csv(os.path.join(\"data\", \"instagram.csv\"), index=False)"
   ]
  },
  {
   "cell_type": "code",
   "execution_count": 7,
   "metadata": {},
   "outputs": [],
   "source": [
    "df_merge = df_instagram.merge(df_face, on=\"shortcode\", how=\"inner\")"
   ]
  },
  {
   "cell_type": "code",
   "execution_count": 8,
   "metadata": {},
   "outputs": [],
   "source": [
    "df_merge.to_csv(os.path.join(\"data\", \"instagram_face_api.csv\"), index=False)"
   ]
  }
 ],
 "metadata": {
  "kernelspec": {
   "display_name": "junbum-research",
   "language": "python",
   "name": "junbum-research"
  },
  "language_info": {
   "codemirror_mode": {
    "name": "ipython",
    "version": 3
   },
   "file_extension": ".py",
   "mimetype": "text/x-python",
   "name": "python",
   "nbconvert_exporter": "python",
   "pygments_lexer": "ipython3",
   "version": "3.6.6"
  }
 },
 "nbformat": 4,
 "nbformat_minor": 2
}
