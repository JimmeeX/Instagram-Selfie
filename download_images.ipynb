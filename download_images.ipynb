{
 "cells": [
  {
   "cell_type": "code",
   "execution_count": 1,
   "metadata": {},
   "outputs": [],
   "source": [
    "import pickle\n",
    "import requests\n",
    "import json\n",
    "import os\n",
    "import urllib"
   ]
  },
  {
   "cell_type": "code",
   "execution_count": 2,
   "metadata": {},
   "outputs": [],
   "source": [
    "from multiprocessing import Pool"
   ]
  },
  {
   "cell_type": "code",
   "execution_count": 3,
   "metadata": {},
   "outputs": [],
   "source": [
    "def extract_images(shortcode):\n",
    "    outPath = \"/mnt/e/Data/selfies/images\"\n",
    "    outFile = shortcode + \".jpg\"\n",
    "    if not os.path.exists(os.path.join(outPath, outFile)):\n",
    "        # Load Post/Image url\n",
    "        try:\n",
    "            r  = requests.get(\"https://www.instagram.com/p/\" + shortcode +\"?__a=1\")\n",
    "            data = r.json()\n",
    "            image_url = data[\"graphql\"][\"shortcode_media\"][\"display_url\"]\n",
    "            urllib.request.urlretrieve(image_url, os.path.join(outPath, outFile))\n",
    "            print(\"Downloading: \" + shortcode)\n",
    "        except Exception as e:\n",
    "            print(e)"
   ]
  },
  {
   "cell_type": "code",
   "execution_count": 4,
   "metadata": {},
   "outputs": [],
   "source": [
    "def main():\n",
    "    with open('selfie_shortcodes_10055.pkl', 'rb') as f:\n",
    "        shortcodes = pickle.load(f)\n",
    "    \n",
    "    # Multiprocess images\n",
    "    with Pool(12) as p:\n",
    "        p.map(extract_images, shortcodes)"
   ]
  },
  {
   "cell_type": "code",
   "execution_count": null,
   "metadata": {},
   "outputs": [],
   "source": [
    "if __name__ == '__main__':\n",
    "    main()"
   ]
  }
 ],
 "metadata": {
  "kernelspec": {
   "display_name": "junbum-research",
   "language": "python",
   "name": "junbum-research"
  },
  "language_info": {
   "codemirror_mode": {
    "name": "ipython",
    "version": 3
   },
   "file_extension": ".py",
   "mimetype": "text/x-python",
   "name": "python",
   "nbconvert_exporter": "python",
   "pygments_lexer": "ipython3",
   "version": "3.6.6"
  }
 },
 "nbformat": 4,
 "nbformat_minor": 2
}
