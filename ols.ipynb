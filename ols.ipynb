{
 "cells": [
  {
   "cell_type": "code",
   "execution_count": 14,
   "metadata": {},
   "outputs": [],
   "source": [
    "import pandas as pd\n",
    "from datetime import datetime\n",
    "\n",
    "from week2_helpers import variance_inflation_factor\n",
    "\n",
    "import seaborn as sns; sns.set()\n",
    "\n",
    "import statsmodels.api as sm"
   ]
  },
  {
   "cell_type": "code",
   "execution_count": 15,
   "metadata": {},
   "outputs": [],
   "source": [
    "df = pd.read_csv(\"data/instagram_face_api.csv\")"
   ]
  },
  {
   "cell_type": "code",
   "execution_count": 16,
   "metadata": {},
   "outputs": [],
   "source": [
    "df[\"taken_at_timestamp\"] = df[\"taken_at_timestamp\"].apply(lambda x: datetime.utcfromtimestamp(x))\n",
    "df[\"timestamp_year\"] = df[\"taken_at_timestamp\"].apply(lambda x: x.year)\n",
    "df[\"timestamp_month\"] = df[\"taken_at_timestamp\"].apply(lambda x: x.month)\n",
    "df[\"timestamp_day\"] = df[\"taken_at_timestamp\"].apply(lambda x: x.day)"
   ]
  },
  {
   "cell_type": "code",
   "execution_count": 17,
   "metadata": {},
   "outputs": [],
   "source": [
    "remove_cols = [\n",
    "    \"accessibility_caption\",\n",
    "    \"caption_is_edited\",\n",
    "    \"display_url\",\n",
    "    \"taken_at_timestamp\",\n",
    "    \"owner_id\",\n",
    "    \"owner_username\",\n",
    "    \"shortcode\",\n",
    "    \"edge_media_to_comment_count\" # Temporary\n",
    "]\n",
    "\n",
    "df = df.drop(columns=remove_cols)"
   ]
  },
  {
   "cell_type": "code",
   "execution_count": 18,
   "metadata": {},
   "outputs": [
    {
     "name": "stdout",
     "output_type": "stream",
     "text": [
      "<class 'pandas.core.frame.DataFrame'>\n",
      "RangeIndex: 3544 entries, 0 to 3543\n",
      "Data columns (total 109 columns):\n",
      "dimensions_height                            3544 non-null int64\n",
      "dimensions_width                             3544 non-null int64\n",
      "edge_media_preview_like_count                3544 non-null int64\n",
      "owner_followers                              3544 non-null float64\n",
      "owner_following                              3544 non-null int64\n",
      "owner_is_verified                            3544 non-null bool\n",
      "owner_posts                                  3544 non-null int64\n",
      "faceAttributes_accessories_glasses           3544 non-null float64\n",
      "faceAttributes_accessories_headwear          3544 non-null float64\n",
      "faceAttributes_accessories_mask              3544 non-null float64\n",
      "faceAttributes_age                           3544 non-null float64\n",
      "faceAttributes_blur_blurLevel                3544 non-null object\n",
      "faceAttributes_blur_value                    3544 non-null float64\n",
      "faceAttributes_emotion_anger                 3544 non-null float64\n",
      "faceAttributes_emotion_contempt              3544 non-null float64\n",
      "faceAttributes_emotion_disgust               3544 non-null float64\n",
      "faceAttributes_emotion_fear                  3544 non-null float64\n",
      "faceAttributes_emotion_happiness             3544 non-null float64\n",
      "faceAttributes_emotion_neutral               3544 non-null float64\n",
      "faceAttributes_emotion_sadness               3544 non-null float64\n",
      "faceAttributes_emotion_surprise              3544 non-null float64\n",
      "faceAttributes_exposure_exposureLevel        3544 non-null object\n",
      "faceAttributes_exposure_value                3544 non-null float64\n",
      "faceAttributes_facialHair_beard              3544 non-null float64\n",
      "faceAttributes_facialHair_moustache          3544 non-null float64\n",
      "faceAttributes_facialHair_sideburns          3544 non-null float64\n",
      "faceAttributes_gender                        3544 non-null object\n",
      "faceAttributes_glasses                       3544 non-null object\n",
      "faceAttributes_hair_bald                     3544 non-null float64\n",
      "faceAttributes_hair_hairColor_black          3315 non-null float64\n",
      "faceAttributes_hair_hairColor_blond          3315 non-null float64\n",
      "faceAttributes_hair_hairColor_brown          3315 non-null float64\n",
      "faceAttributes_hair_hairColor_gray           3315 non-null float64\n",
      "faceAttributes_hair_hairColor_other          3315 non-null float64\n",
      "faceAttributes_hair_hairColor_red            3315 non-null float64\n",
      "faceAttributes_hair_invisible                3544 non-null bool\n",
      "faceAttributes_headPose_pitch                3544 non-null float64\n",
      "faceAttributes_headPose_roll                 3544 non-null float64\n",
      "faceAttributes_headPose_yaw                  3544 non-null float64\n",
      "faceAttributes_makeup_eyeMakeup              3544 non-null bool\n",
      "faceAttributes_makeup_lipMakeup              3544 non-null bool\n",
      "faceAttributes_noise_noiseLevel              3544 non-null object\n",
      "faceAttributes_noise_value                   3544 non-null float64\n",
      "faceAttributes_occlusion_eyeOccluded         3544 non-null bool\n",
      "faceAttributes_occlusion_foreheadOccluded    3544 non-null bool\n",
      "faceAttributes_occlusion_mouthOccluded       3544 non-null bool\n",
      "faceAttributes_smile                         3544 non-null float64\n",
      "faceLandmarks_eyeLeftBottom_x                3544 non-null float64\n",
      "faceLandmarks_eyeLeftBottom_y                3544 non-null float64\n",
      "faceLandmarks_eyeLeftInner_x                 3544 non-null float64\n",
      "faceLandmarks_eyeLeftInner_y                 3544 non-null float64\n",
      "faceLandmarks_eyeLeftOuter_x                 3544 non-null float64\n",
      "faceLandmarks_eyeLeftOuter_y                 3544 non-null float64\n",
      "faceLandmarks_eyeLeftTop_x                   3544 non-null float64\n",
      "faceLandmarks_eyeLeftTop_y                   3544 non-null float64\n",
      "faceLandmarks_eyeRightBottom_x               3544 non-null float64\n",
      "faceLandmarks_eyeRightBottom_y               3544 non-null float64\n",
      "faceLandmarks_eyeRightInner_x                3544 non-null float64\n",
      "faceLandmarks_eyeRightInner_y                3544 non-null float64\n",
      "faceLandmarks_eyeRightOuter_x                3544 non-null float64\n",
      "faceLandmarks_eyeRightOuter_y                3544 non-null float64\n",
      "faceLandmarks_eyeRightTop_x                  3544 non-null float64\n",
      "faceLandmarks_eyeRightTop_y                  3544 non-null float64\n",
      "faceLandmarks_eyebrowLeftInner_x             3544 non-null float64\n",
      "faceLandmarks_eyebrowLeftInner_y             3544 non-null float64\n",
      "faceLandmarks_eyebrowLeftOuter_x             3544 non-null float64\n",
      "faceLandmarks_eyebrowLeftOuter_y             3544 non-null float64\n",
      "faceLandmarks_eyebrowRightInner_x            3544 non-null float64\n",
      "faceLandmarks_eyebrowRightInner_y            3544 non-null float64\n",
      "faceLandmarks_eyebrowRightOuter_x            3544 non-null float64\n",
      "faceLandmarks_eyebrowRightOuter_y            3544 non-null float64\n",
      "faceLandmarks_mouthLeft_x                    3544 non-null float64\n",
      "faceLandmarks_mouthLeft_y                    3544 non-null float64\n",
      "faceLandmarks_mouthRight_x                   3544 non-null float64\n",
      "faceLandmarks_mouthRight_y                   3544 non-null float64\n",
      "faceLandmarks_noseLeftAlarOutTip_x           3544 non-null float64\n",
      "faceLandmarks_noseLeftAlarOutTip_y           3544 non-null float64\n",
      "faceLandmarks_noseLeftAlarTop_x              3544 non-null float64\n",
      "faceLandmarks_noseLeftAlarTop_y              3544 non-null float64\n",
      "faceLandmarks_noseRightAlarOutTip_x          3544 non-null float64\n",
      "faceLandmarks_noseRightAlarOutTip_y          3544 non-null float64\n",
      "faceLandmarks_noseRightAlarTop_x             3544 non-null float64\n",
      "faceLandmarks_noseRightAlarTop_y             3544 non-null float64\n",
      "faceLandmarks_noseRootLeft_x                 3544 non-null float64\n",
      "faceLandmarks_noseRootLeft_y                 3544 non-null float64\n",
      "faceLandmarks_noseRootRight_x                3544 non-null float64\n",
      "faceLandmarks_noseRootRight_y                3544 non-null float64\n",
      "faceLandmarks_noseTip_x                      3544 non-null float64\n",
      "faceLandmarks_noseTip_y                      3544 non-null float64\n",
      "faceLandmarks_pupilLeft_x                    3544 non-null float64\n",
      "faceLandmarks_pupilLeft_y                    3544 non-null float64\n",
      "faceLandmarks_pupilRight_x                   3544 non-null float64\n",
      "faceLandmarks_pupilRight_y                   3544 non-null float64\n",
      "faceLandmarks_underLipBottom_x               3544 non-null float64\n",
      "faceLandmarks_underLipBottom_y               3544 non-null float64\n",
      "faceLandmarks_underLipTop_x                  3544 non-null float64\n",
      "faceLandmarks_underLipTop_y                  3544 non-null float64\n",
      "faceLandmarks_upperLipBottom_x               3544 non-null float64\n",
      "faceLandmarks_upperLipBottom_y               3544 non-null float64\n",
      "faceLandmarks_upperLipTop_x                  3544 non-null float64\n",
      "faceLandmarks_upperLipTop_y                  3544 non-null float64\n",
      "faceRectangle_height                         3544 non-null int64\n",
      "faceRectangle_left                           3544 non-null int64\n",
      "faceRectangle_top                            3544 non-null int64\n",
      "faceRectangle_width                          3544 non-null int64\n",
      "num_faces                                    3544 non-null int64\n",
      "timestamp_year                               3544 non-null int64\n",
      "timestamp_month                              3544 non-null int64\n",
      "timestamp_day                                3544 non-null int64\n",
      "dtypes: bool(7), float64(84), int64(13), object(5)\n",
      "memory usage: 2.8+ MB\n"
     ]
    }
   ],
   "source": [
    "df.info(max_cols=200)"
   ]
  },
  {
   "cell_type": "code",
   "execution_count": null,
   "metadata": {},
   "outputs": [],
   "source": [
    "faceAttributes_age                           "
   ]
  },
  {
   "cell_type": "code",
   "execution_count": 12,
   "metadata": {},
   "outputs": [
    {
     "data": {
      "image/png": "[encoded data removed]",
      "text/plain": [
       "<Figure size 432x288 with 1 Axes>"
      ]
     },
     "metadata": {},
     "output_type": "display_data"
    }
   ],
   "source": [
    "age_likes = sns.regplot(x=\"faceAttributes_age\", y=\"edge_media_preview_like_count\", data=df)"
   ]
  },
  {
   "cell_type": "code",
   "execution_count": 10,
   "metadata": {},
   "outputs": [],
   "source": [
    "gender = df[\"faceAttributes_gender\"].value_counts()"
   ]
  },
  {
   "cell_type": "code",
   "execution_count": 13,
   "metadata": {},
   "outputs": [
    {
     "data": {
      "image/png": "[encoded data removed]",
      "text/plain": [
       "<Figure size 432x288 with 1 Axes>"
      ]
     },
     "metadata": {},
     "output_type": "display_data"
    }
   ],
   "source": [
    "gender_likes = sns.barplot(x=gender.index, y=gender.values)"
   ]
  },
  {
   "cell_type": "code",
   "execution_count": null,
   "metadata": {},
   "outputs": [],
   "source": [
    "cat_cols = [\n",
    "    \"faceAttributes_blur_blurLevel\",         # [low, medium, high]\n",
    "    \"faceAttributes_exposure_exposureLevel\", # [underExposure, goodExposure, overExposure]\n",
    "    \"faceAttributes_gender\",                 # [female, male]\n",
    "    \"faceAttributes_glasses\",                # [NoGlasses, ReadingGlasses, Sunglasses, SwimmingGoggles]\n",
    "    \"faceAttributes_noise_noiseLevel\"        # [low, medium, high]\n",
    "]\n",
    "\n",
    "df = pd.get_dummies(df, columns=cat_cols, drop_first=True)"
   ]
  },
  {
   "cell_type": "code",
   "execution_count": null,
   "metadata": {},
   "outputs": [],
   "source": [
    "df = df.dropna()"
   ]
  },
  {
   "cell_type": "code",
   "execution_count": null,
   "metadata": {},
   "outputs": [],
   "source": [
    "y = df.pop(\"edge_media_preview_like_count\")"
   ]
  },
  {
   "cell_type": "code",
   "execution_count": null,
   "metadata": {},
   "outputs": [],
   "source": [
    "x = sm.add_constant(df.astype(float))\n",
    "model = sm.OLS(y, x).fit()\n",
    "print(model.summary())"
   ]
  },
  {
   "cell_type": "code",
   "execution_count": null,
   "metadata": {},
   "outputs": [],
   "source": [
    "vif = variance_inflation_factor(x.astype(float))\n",
    "df_coeffs = pd.DataFrame({\"Coefficients\": model.params, \"p\": model.pvalues, \"vif\": vif[\"vif\"]})\n",
    "df_coeffs = df_coeffs.drop(\"const\", axis=0)\n",
    "df_coeffs_sorted = df_coeffs.reindex(df_coeffs[\"p\"].sort_values().index)\n",
    "df_coeffs_sorted.style.bar(subset = [\"Coefficients\", \"p\"], align='mid', color=['#d65f5f', '#5fba7d'])"
   ]
  },
  {
   "cell_type": "code",
   "execution_count": null,
   "metadata": {},
   "outputs": [],
   "source": [
    "df_vif = x.loc[:, vif[\"vif\"] <= 5]"
   ]
  },
  {
   "cell_type": "code",
   "execution_count": null,
   "metadata": {},
   "outputs": [],
   "source": [
    "# Rerun regression\n",
    "x_vif = sm.add_constant(df.astype(float))\n",
    "model_vif = sm.OLS(y, x_vif).fit()\n",
    "print(model_vif.summary())"
   ]
  },
  {
   "cell_type": "code",
   "execution_count": null,
   "metadata": {},
   "outputs": [],
   "source": [
    "vif = variance_inflation_factor(df_vif.astype(float))\n",
    "df_coeffs = pd.DataFrame({\"Coefficients\": model_vif.params, \"p\": model_vif.pvalues, \"vif\": vif[\"vif\"]})\n",
    "df_coeffs_sorted = df_coeffs.reindex(df_coeffs[\"p\"].sort_values().index)\n",
    "df_coeffs_sorted.style.bar(subset = [\"Coefficients\", \"p\", \"vif\"], align='mid', color=['#d65f5f', '#5fba7d'])"
   ]
  }
 ],
 "metadata": {
  "kernelspec": {
   "display_name": "junbum-research",
   "language": "python",
   "name": "junbum-research"
  },
  "language_info": {
   "codemirror_mode": {
    "name": "ipython",
    "version": 3
   },
   "file_extension": ".py",
   "mimetype": "text/x-python",
   "name": "python",
   "nbconvert_exporter": "python",
   "pygments_lexer": "ipython3",
   "version": "3.6.6"
  }
 },
 "nbformat": 4,
 "nbformat_minor": 2
}
