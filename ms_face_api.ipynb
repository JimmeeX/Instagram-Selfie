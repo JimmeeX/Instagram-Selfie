{
 "cells": [
  {
   "cell_type": "code",
   "execution_count": 1,
   "metadata": {},
   "outputs": [],
   "source": [
    "import requests\n",
    "import urllib\n",
    "import pickle\n",
    "import os\n",
    "import json\n",
    "import time"
   ]
  },
  {
   "cell_type": "code",
   "execution_count": 2,
   "metadata": {},
   "outputs": [],
   "source": [
    "from multiprocessing import Pool"
   ]
  },
  {
   "cell_type": "code",
   "execution_count": 3,
   "metadata": {},
   "outputs": [],
   "source": [
    "class MSFaceAPIClient():\n",
    "    def __init__(self, subscription_key, location):\n",
    "        self._subscription_key = subscription_key\n",
    "        self._location = location\n",
    "        \n",
    "    def face_detect_local(self, image_path):\n",
    "        headers = {\n",
    "            # Request headers\n",
    "            'Content-Type': 'application/octet-stream',\n",
    "            'Ocp-Apim-Subscription-Key': self._subscription_key,\n",
    "        }\n",
    "\n",
    "        params = urllib.parse.urlencode({\n",
    "            # Request parameters\n",
    "            'returnFaceId': 'true',\n",
    "            'returnFaceLandmarks': 'true',\n",
    "            'returnFaceAttributes': \"age,gender,headPose,smile,facialHair,glasses,emotion,hair,makeup,occlusion,accessories,blur,exposure,noise\"\n",
    "        })\n",
    "\n",
    "        try:\n",
    "            url = \"https://\" + self._location + \".api.cognitive.microsoft.com/face/v1.0/detect\"\n",
    "            return requests.post(url, params=params, headers=headers, data=open(image_path, 'rb')).json()\n",
    "        except Exception as e:\n",
    "            print(\"Detect Face Error: \" + str(e))\n",
    "            return None"
   ]
  },
  {
   "cell_type": "code",
   "execution_count": null,
   "metadata": {},
   "outputs": [],
   "source": [
    "# Run to delete error files\n",
    "out_path = \"/mnt/e/Data/selfies/face_api_json\"\n",
    "    \n",
    "shortcodes_analysed = os.listdir(out_path)\n",
    "    \n",
    "for shortcode in shortcodes_analysed:\n",
    "    if os.path.exists(os.path.join(out_path, shortcode)):\n",
    "         with open(os.path.join(out_path, shortcode), \"r\") as fin:\n",
    "            data = json.load(fin)\n",
    "            if \"error\" in data:\n",
    "                print(\"Deleting: \" + shortcode)\n",
    "                os.remove(os.path.join(out_path, shortcode))"
   ]
  },
  {
   "cell_type": "code",
   "execution_count": 4,
   "metadata": {},
   "outputs": [],
   "source": [
    "face_api_client = MSFaceAPIClient(\n",
    "    subscription_key = \"1f5456936f2e4369b2226440b624dd00\",\n",
    "    location = \"westcentralus\"\n",
    ")\n",
    "\n",
    "in_path = \"/mnt/e/Data/selfies/images\"\n",
    "out_path = \"/mnt/e/Data/selfies/face_api_json\"\n",
    "\n",
    "shortcodes_analysed_json = os.listdir(in_path)\n",
    "shortcodes_analysed = list(map(lambda x: x[:-4], shortcodes_analysed_json))\n",
    "\n",
    "for shortcode in shortcodes_analysed:\n",
    "    if not os.path.exists(os.path.join(out_path, shortcode + \".json\")):\n",
    "        image_path = os.path.join(in_path, shortcode + \".jpg\")\n",
    "        data = face_api_client.face_detect_local(image_path)\n",
    "        time.sleep(1)\n",
    "        if data is not None:\n",
    "            if \"error\" not in data:\n",
    "                with open(os.path.join(out_path, shortcode + \".json\"), \"w\") as fout:\n",
    "                    json.dump(data, fout)\n",
    "            else:\n",
    "                print(data[\"error\"])\n",
    "                time.sleep(5)"
   ]
  },
  {
   "cell_type": "code",
   "execution_count": null,
   "metadata": {},
   "outputs": [],
   "source": []
  }
 ],
 "metadata": {
  "kernelspec": {
   "display_name": "junbum-research",
   "language": "python",
   "name": "junbum-research"
  },
  "language_info": {
   "codemirror_mode": {
    "name": "ipython",
    "version": 3
   },
   "file_extension": ".py",
   "mimetype": "text/x-python",
   "name": "python",
   "nbconvert_exporter": "python",
   "pygments_lexer": "ipython3",
   "version": "3.6.6"
  }
 },
 "nbformat": 4,
 "nbformat_minor": 2
}
