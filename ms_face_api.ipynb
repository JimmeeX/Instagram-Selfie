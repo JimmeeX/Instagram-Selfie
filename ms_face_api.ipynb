{
 "cells": [
  {
   "cell_type": "code",
   "execution_count": 1,
   "metadata": {},
   "outputs": [],
   "source": [
    "import requests\n",
    "import urllib\n",
    "import pickle\n",
    "import os\n",
    "import json"
   ]
  },
  {
   "cell_type": "code",
   "execution_count": 2,
   "metadata": {},
   "outputs": [],
   "source": [
    "from multiprocessing import Pool"
   ]
  },
  {
   "cell_type": "code",
   "execution_count": 3,
   "metadata": {},
   "outputs": [],
   "source": [
    "class MSFaceAPIClient():\n",
    "    def __init__(self, subscription_key, location):\n",
    "        self._subscription_key = subscription_key\n",
    "        self._location = location\n",
    "        \n",
    "    def face_detect_local(self, image_path):\n",
    "        headers = {\n",
    "            # Request headers\n",
    "            'Content-Type': 'application/octet-stream',\n",
    "            'Ocp-Apim-Subscription-Key': self._subscription_key,\n",
    "        }\n",
    "\n",
    "        params = urllib.parse.urlencode({\n",
    "            # Request parameters\n",
    "            'returnFaceId': 'true',\n",
    "            'returnFaceLandmarks': 'true',\n",
    "            'returnFaceAttributes': \"age,gender,headPose,smile,facialHair,glasses,emotion,hair,makeup,occlusion,accessories,blur,exposure,noise\"\n",
    "        })\n",
    "\n",
    "        try:\n",
    "            url = \"https://\" + self._location + \".api.cognitive.microsoft.com/face/v1.0/detect\"\n",
    "            return requests.post(url, params=params, headers=headers, data=open(image_path, 'rb')).json()\n",
    "        except Exception as e:\n",
    "            print(\"Detect Face Error: \" + str(e))\n",
    "            return None"
   ]
  },
  {
   "cell_type": "code",
   "execution_count": null,
   "metadata": {},
   "outputs": [
    {
     "name": "stdout",
     "output_type": "stream",
     "text": [
      "Detect Face Error: [Errno 2] No such file or directory: '/mnt/e/Data/selfies/images/BuTrUNMHV63.jpg'\n",
      "Detect Face Error: [Errno 2] No such file or directory: '/mnt/e/Data/selfies/images/BuTrTVDlQhr.jpg'\n",
      "Detect Face Error: [Errno 2] No such file or directory: '/mnt/e/Data/selfies/images/BuTrTDGhpLC.jpg'\n",
      "Detect Face Error: [Errno 2] No such file or directory: '/mnt/e/Data/selfies/images/BuTqrGgBtgG.jpg'\n",
      "Detect Face Error: [Errno 2] No such file or directory: '/mnt/e/Data/selfies/images/BuTpfkHFPdW.jpg'\n",
      "Detect Face Error: [Errno 2] No such file or directory: '/mnt/e/Data/selfies/images/BtiyFRlAQvi.jpg'\n",
      "Detect Face Error: [Errno 2] No such file or directory: '/mnt/e/Data/selfies/images/BuTrTwzley9.jpg'\n",
      "Detect Face Error: [Errno 2] No such file or directory: '/mnt/e/Data/selfies/images/BuTrTpClVot.jpg'\n",
      "Detect Face Error: [Errno 2] No such file or directory: '/mnt/e/Data/selfies/images/BuTrTc0guZ2.jpg'\n"
     ]
    }
   ],
   "source": [
    "face_api_client = MSFaceAPIClient(\n",
    "    subscription_key = \"1f5456936f2e4369b2226440b624dd00\",\n",
    "    location = \"westcentralus\"\n",
    ")\n",
    "\n",
    "with open('selfie_shortcodes_10055.pkl', 'rb') as f:\n",
    "    shortcodes = pickle.load(f)\n",
    "\n",
    "in_path = \"/mnt/e/Data/selfies/images\"\n",
    "out_path = \"/mnt/e/Data/selfies/face_api_json\"\n",
    "\n",
    "for shortcode in shortcodes:\n",
    "    if not os.path.exists(os.path.join(out_path, shortcode + \".json\")):\n",
    "        image_path = os.path.join(in_path, shortcode + \".jpg\")\n",
    "        data = face_api_client.face_detect_local(image_path)\n",
    "        if data is not None:\n",
    "            if len(data) > 0:\n",
    "                with open(os.path.join(out_path, shortcode + \".json\"), \"w\") as fout:\n",
    "                    json.dump(data, fout)\n",
    "    "
   ]
  }
 ],
 "metadata": {
  "kernelspec": {
   "display_name": "junbum-research",
   "language": "python",
   "name": "junbum-research"
  },
  "language_info": {
   "codemirror_mode": {
    "name": "ipython",
    "version": 3
   },
   "file_extension": ".py",
   "mimetype": "text/x-python",
   "name": "python",
   "nbconvert_exporter": "python",
   "pygments_lexer": "ipython3",
   "version": "3.6.6"
  }
 },
 "nbformat": 4,
 "nbformat_minor": 2
}
